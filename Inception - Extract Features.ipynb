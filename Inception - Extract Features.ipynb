{
 "cells": [
  {
   "cell_type": "markdown",
   "metadata": {},
   "source": [
    "### Parameters & Imports"
   ]
  },
  {
   "cell_type": "code",
   "execution_count": 1,
   "metadata": {},
   "outputs": [
    {
     "name": "stderr",
     "output_type": "stream",
     "text": [
      "Using TensorFlow backend.\n"
     ]
    }
   ],
   "source": [
    "from keras import applications\n",
    "from keras.preprocessing.image import ImageDataGenerator\n",
    "from keras import optimizers\n",
    "from keras.models import Sequential, Model \n",
    "from keras.layers import Dropout, Flatten, Dense, GlobalAveragePooling2D, BatchNormalization\n",
    "from keras import backend as k \n",
    "from keras.callbacks import ModelCheckpoint, LearningRateScheduler, TensorBoard, EarlyStopping, LambdaCallback\n",
    "\n",
    "img_width, img_height = 320, 240\n",
    "model_path = 'models/outputs/inception_v3.h5'\n",
    "frame_dir = 'datasets/UCF11/frames-backup'\n",
    "features_dir = 'datasets/UCF11/features/'\n",
    "nb_frame_samples = 9190\n",
    "batch_size = 64\n",
    "epochs = 50\n",
    "nb_class = 11"
   ]
  },
  {
   "cell_type": "markdown",
   "metadata": {},
   "source": [
    "### Define Model"
   ]
  },
  {
   "cell_type": "code",
   "execution_count": 2,
   "metadata": {},
   "outputs": [
    {
     "name": "stdout",
     "output_type": "stream",
     "text": [
      "WARNING:tensorflow:From /Users/okyksl/miniconda3/envs/tensorflow/lib/python3.7/site-packages/tensorflow/python/framework/op_def_library.py:263: colocate_with (from tensorflow.python.framework.ops) is deprecated and will be removed in a future version.\n",
      "Instructions for updating:\n",
      "Colocations handled automatically by placer.\n"
     ]
    }
   ],
   "source": [
    "base_model = applications.inception_v3.InceptionV3(weights='imagenet', include_top=False, input_shape=(img_width, img_height, 3))\n",
    "\n",
    "x = base_model.output\n",
    "predictions = GlobalAveragePooling2D()(x)\n",
    "\n",
    "#x = model.output\n",
    "#x = Flatten()(x)\n",
    "#x = Dense(1024, activation='relu')(x)\n",
    "#x = Dropout(0.5)(x)\n",
    "#x = Dense(1024, activation='relu')(x)\n",
    "#predictions = Dense(nb_class, activation='softmax')(x)\n",
    "\n",
    "model = Model(inputs=base_model.input, outputs=predictions)\n",
    "#model.load_weights(model_path)"
   ]
  },
  {
   "cell_type": "markdown",
   "metadata": {},
   "source": [
    "### Data Generator"
   ]
  },
  {
   "cell_type": "code",
   "execution_count": 3,
   "metadata": {},
   "outputs": [
    {
     "name": "stdout",
     "output_type": "stream",
     "text": [
      "Found 9190 images belonging to 2 classes.\n"
     ]
    }
   ],
   "source": [
    "frame_datagen = ImageDataGenerator(rescale=1./255)\n",
    "frame_generator = frame_datagen.flow_from_directory(\n",
    "    frame_dir,\n",
    "    target_size=(img_width, img_height),\n",
    "    batch_size=batch_size\n",
    ")"
   ]
  },
  {
   "cell_type": "markdown",
   "metadata": {},
   "source": [
    "### Deploy Model"
   ]
  },
  {
   "cell_type": "code",
   "execution_count": null,
   "metadata": {},
   "outputs": [],
   "source": [
    "model.compile(loss='categorical_crossentropy', optimizer=optimizers.SGD(lr=0.0001, momentum=0.9), metrics=['accuracy'])\n",
    "\n",
    "saver = LambdaCallback(\n",
    "    on_batch_end=lambda batch, logs: [\n",
    "        print(batch)\n",
    "    ])\n",
    "\n",
    "model.predict_generator(\n",
    "    frame_generator,\n",
    "    (nb_frame_samples // batch_size),\n",
    "    [saver],\n",
    "    1\n",
    ")"
   ]
  },
  {
   "cell_type": "code",
   "execution_count": null,
   "metadata": {},
   "outputs": [],
   "source": []
  }
 ],
 "metadata": {
  "kernelspec": {
   "display_name": "Tensorflow 1.13 (Python 3.7)",
   "language": "python",
   "name": "tensorflow"
  },
  "language_info": {
   "codemirror_mode": {
    "name": "ipython",
    "version": 3
   },
   "file_extension": ".py",
   "mimetype": "text/x-python",
   "name": "python",
   "nbconvert_exporter": "python",
   "pygments_lexer": "ipython3",
   "version": "3.7.3"
  }
 },
 "nbformat": 4,
 "nbformat_minor": 2
}
