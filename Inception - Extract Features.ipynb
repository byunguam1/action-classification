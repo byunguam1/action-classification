{
 "cells": [
  {
   "cell_type": "markdown",
   "metadata": {},
   "source": [
    "### Parameters & Imports"
   ]
  },
  {
   "cell_type": "code",
   "execution_count": null,
   "metadata": {},
   "outputs": [],
   "source": [
    "from keras import applications\n",
    "from keras.preprocessing.image import ImageDataGenerator\n",
    "from keras import optimizers\n",
    "from keras.models import Sequential, Model \n",
    "from keras.layers import Dropout, Flatten, Dense, GlobalAveragePooling2D, BatchNormalization, Input\n",
    "from keras import backend as k \n",
    "from keras.callbacks import ModelCheckpoint, LearningRateScheduler, TensorBoard, EarlyStopping\n",
    "\n",
    "img_width, img_height = 320, 240\n",
    "train_data_dir = 'datasets/UCF11/frames/train'\n",
    "validation_data_dir = 'datasets/UCF11/frames/test'\n",
    "nb_train_samples = 7365\n",
    "nb_validation_samples = 1825 \n",
    "batch_size = 64\n",
    "epochs = 50\n",
    "nb_class = 11"
   ]
  },
  {
   "cell_type": "markdown",
   "metadata": {},
   "source": [
    "### Define Model"
   ]
  },
  {
   "cell_type": "code",
   "execution_count": null,
   "metadata": {},
   "outputs": [],
   "source": [
    "base_model = applications.inception_v3.InceptionV3(weights='imagenet', include_top=False, input_shape=(img_width, img_height, 3))\n",
    "\n",
    "x = base_model.output\n",
    "predictions = GlobalAveragePooling2D()(x)\n",
    "\n",
    "model = Model(inputs=base_model.input, outputs=predictions)"
   ]
  },
  {
   "cell_type": "markdown",
   "metadata": {},
   "source": [
    "### Data Generator"
   ]
  },
  {
   "cell_type": "code",
   "execution_count": null,
   "metadata": {},
   "outputs": [],
   "source": [
    "train_datagen = ImageDataGenerator(rescale=1./255,)\n",
    "test_datagen = ImageDataGenerator(rescale=1./255)\n",
    "\n",
    "train_generator = train_datagen.flow_from_directory(\n",
    "    train_data_dir,\n",
    "    target_size=(img_width, img_height),\n",
    "    batch_size=batch_size, \n",
    "    class_mode='categorical'\n",
    ")\n",
    "\n",
    "validation_generator = test_datagen.flow_from_directory(\n",
    "    validation_data_dir,\n",
    "    target_size=(img_width, img_height),\n",
    "    batch_size=batch_size, \n",
    "    class_mode='categorical'\n",
    ")"
   ]
  },
  {
   "cell_type": "markdown",
   "metadata": {},
   "source": [
    "### Deploy Model"
   ]
  },
  {
   "cell_type": "code",
   "execution_count": null,
   "metadata": {},
   "outputs": [],
   "source": [
    "train_files = train_generator.filenames\n",
    "test_files = validation_generator.filenames\n",
    "\n",
    "train_features = model.predict_generator(\n",
    "    frame_generator,\n",
    "    steps=nb_train_samples // batch_size\n",
    ")\n",
    "\n",
    "test_features = model.predict_generator(\n",
    "    validation_generator,\n",
    "    steps=nb_validation_samples // batch_size\n",
    ")"
   ]
  },
  {
   "cell_type": "markdown",
   "metadata": {},
   "source": [
    "### Save Results"
   ]
  },
  {
   "cell_type": "code",
   "execution_count": null,
   "metadata": {},
   "outputs": [],
   "source": [
    "import os\n",
    "import numpy as np\n",
    "\n",
    "for file, feature in zip(train_files, train_features):\n",
    "    path = os.path.join(features_data_dir + '/train', os.path.splitext(file)[0] ) + '.npy'\n",
    "    if not os.path.isdir( os.path.dirname(path) ):\n",
    "        os.makedirs( os.path.dirname(path) )\n",
    "        np.save(path, feature)\n",
    "        \n",
    "for file, feature in zip(test_files, test_features):\n",
    "    path = os.path.join(features_data_dir + '/test', os.path.splitext(file)[0] ) + '.npy'\n",
    "    if not os.path.isdir( os.path.dirname(path) ):\n",
    "        os.makedirs( os.path.dirname(path) )\n",
    "        np.save(path, feature)"
   ]
  }
 ],
 "metadata": {
  "kernelspec": {
   "display_name": "Tensorflow 1.13 (Python 3.7)",
   "language": "python",
   "name": "tensorflow"
  },
  "language_info": {
   "codemirror_mode": {
    "name": "ipython",
    "version": 3
   },
   "file_extension": ".py",
   "mimetype": "text/x-python",
   "name": "python",
   "nbconvert_exporter": "python",
   "pygments_lexer": "ipython3",
   "version": "3.7.3"
  }
 },
 "nbformat": 4,
 "nbformat_minor": 2
}
