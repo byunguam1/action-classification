{
 "cells": [
  {
   "cell_type": "code",
   "execution_count": null,
   "metadata": {},
   "outputs": [],
   "source": [
    "# Customize for UCF11\n",
    "dataset_dir = 'datasets/UCF11_updated_mpg'\n",
    "output_dir = 'datasets/UCF11/frames'\n",
    "test_ratio = 0.2\n",
    "frame_per_video = 10\n",
    "classes = {\n",
    "    'basketball': 0,\n",
    "    'biking': 1,\n",
    "    'diving': 2,\n",
    "    'golf_swing': 3,\n",
    "    'horse_riding': 4,\n",
    "    'soccer_juggling': 5,\n",
    "    'swing': 6,\n",
    "    'tennis_swing': 7,\n",
    "    'trampoline_jumping': 8,\n",
    "    'volleyball_spiking': 9,\n",
    "    'walking': 9\n",
    "}"
   ]
  },
  {
   "cell_type": "code",
   "execution_count": null,
   "metadata": {},
   "outputs": [],
   "source": [
    "import os\n",
    "import numpy as np\n",
    "\n",
    "test_videos = [ [] for cls in classes ]\n",
    "train_videos = [ [] for cls in classes ]\n",
    "for f in os.scandir(dataset_dir):\n",
    "    if f.is_dir(): # a class is detected\n",
    "        class_name = f.name\n",
    "        class_id = classes[class_name]\n",
    "\n",
    "        sets = [ff for ff in os.scandir( f.path ) if ff.name != 'Annotation' and ff.is_dir() ]\n",
    "        set_count = len(sets)\n",
    "        test_count = int(set_count * test_ratio)\n",
    "        \n",
    "        np.random.shuffle(sets) # shuffle sets\n",
    "        for i in range(test_count):\n",
    "            test_videos[class_id].extend([ ff.path for ff in os.scandir( sets[i].path ) if ff.is_file() ])\n",
    "            \n",
    "        for i in range(test_count, set_count):\n",
    "            train_videos[class_id].extend([ ff.path for ff in os.scandir( sets[i].path ) if ff.is_file() ])"
   ]
  },
  {
   "cell_type": "code",
   "execution_count": null,
   "metadata": {},
   "outputs": [],
   "source": [
    "from scripts.utils.extract_frames import extract_random_frames\n",
    "\n",
    "for cls in classes:\n",
    "    output_folder = os.path.abspath( os.path.join( os.path.join(output_dir, 'test') , cls ) )\n",
    "    for file in test_videos[classes[cls]]:\n",
    "        output = os.path.splitext( os.path.basename(file) )[0] + '_%3d.jpeg'\n",
    "        extract_random_frames(file=os.path.abspath(file), count=frame_per_video, output=os.path.join(output_folder, output))\n",
    "        \n",
    "    output_folder = os.path.abspath( os.path.join( os.path.join(output_dir, 'train') , cls ) )\n",
    "    for file in train_videos[classes[cls]]:\n",
    "        output = os.path.splitext( os.path.basename(file) )[0] + '_%3d.jpeg'\n",
    "        extract_random_frames(file=os.path.abspath(file), count=frame_per_video, output=os.path.join(output_folder, output))"
   ]
  }
 ],
 "metadata": {
  "kernelspec": {
   "display_name": "Tensorflow 1.13 (Python 3.7)",
   "language": "python",
   "name": "tensorflow"
  },
  "language_info": {
   "codemirror_mode": {
    "name": "ipython",
    "version": 3
   },
   "file_extension": ".py",
   "mimetype": "text/x-python",
   "name": "python",
   "nbconvert_exporter": "python",
   "pygments_lexer": "ipython3",
   "version": "3.7.3"
  }
 },
 "nbformat": 4,
 "nbformat_minor": 2
}
